{
 "cells": [
  {
   "cell_type": "markdown",
   "metadata": {
    "id": "L68PMKY8j3j9"
   },
   "source": [
    "# Import Libraries"
   ]
  },
  {
   "cell_type": "code",
   "execution_count": 44,
   "metadata": {
    "id": "mJJ7G2tYj-eZ"
   },
   "outputs": [],
   "source": [
    "import tensorflow as tf\n",
    "import tensorflow.keras\n",
    "import pandas as pd\n",
    "from sklearn.preprocessing import MinMaxScaler\n",
    "from sklearn.model_selection import train_test_split"
   ]
  },
  {
   "cell_type": "markdown",
   "metadata": {
    "id": "tGg-N7npj3kC"
   },
   "source": [
    "# Import DataSet"
   ]
  },
  {
   "cell_type": "code",
   "execution_count": 34,
   "metadata": {
    "id": "G7JSIeQRovm7"
   },
   "outputs": [],
   "source": [
    "df= pd.read_csv('housepricedata.csv')"
   ]
  },
  {
   "cell_type": "code",
   "execution_count": 35,
   "metadata": {
    "colab": {
     "base_uri": "https://localhost:8080/",
     "height": 206
    },
    "id": "qj-cFh1Yovja",
    "outputId": "f1b2b535-0710-4b66-901d-f7d9407be2a2"
   },
   "outputs": [
    {
     "data": {
      "text/html": [
       "\n",
       "  <div id=\"df-fa323b35-c93f-4b7b-a297-bd013e48e6db\" class=\"colab-df-container\">\n",
       "    <div>\n",
       "<style scoped>\n",
       "    .dataframe tbody tr th:only-of-type {\n",
       "        vertical-align: middle;\n",
       "    }\n",
       "\n",
       "    .dataframe tbody tr th {\n",
       "        vertical-align: top;\n",
       "    }\n",
       "\n",
       "    .dataframe thead th {\n",
       "        text-align: right;\n",
       "    }\n",
       "</style>\n",
       "<table border=\"1\" class=\"dataframe\">\n",
       "  <thead>\n",
       "    <tr style=\"text-align: right;\">\n",
       "      <th></th>\n",
       "      <th>LotArea</th>\n",
       "      <th>OverallQual</th>\n",
       "      <th>OverallCond</th>\n",
       "      <th>TotalBsmtSF</th>\n",
       "      <th>FullBath</th>\n",
       "      <th>HalfBath</th>\n",
       "      <th>BedroomAbvGr</th>\n",
       "      <th>TotRmsAbvGrd</th>\n",
       "      <th>Fireplaces</th>\n",
       "      <th>GarageArea</th>\n",
       "      <th>AboveMedianPrice</th>\n",
       "    </tr>\n",
       "  </thead>\n",
       "  <tbody>\n",
       "    <tr>\n",
       "      <th>0</th>\n",
       "      <td>8450</td>\n",
       "      <td>7</td>\n",
       "      <td>5</td>\n",
       "      <td>856</td>\n",
       "      <td>2</td>\n",
       "      <td>1</td>\n",
       "      <td>3</td>\n",
       "      <td>8</td>\n",
       "      <td>0</td>\n",
       "      <td>548</td>\n",
       "      <td>1</td>\n",
       "    </tr>\n",
       "    <tr>\n",
       "      <th>1</th>\n",
       "      <td>9600</td>\n",
       "      <td>6</td>\n",
       "      <td>8</td>\n",
       "      <td>1262</td>\n",
       "      <td>2</td>\n",
       "      <td>0</td>\n",
       "      <td>3</td>\n",
       "      <td>6</td>\n",
       "      <td>1</td>\n",
       "      <td>460</td>\n",
       "      <td>1</td>\n",
       "    </tr>\n",
       "    <tr>\n",
       "      <th>2</th>\n",
       "      <td>11250</td>\n",
       "      <td>7</td>\n",
       "      <td>5</td>\n",
       "      <td>920</td>\n",
       "      <td>2</td>\n",
       "      <td>1</td>\n",
       "      <td>3</td>\n",
       "      <td>6</td>\n",
       "      <td>1</td>\n",
       "      <td>608</td>\n",
       "      <td>1</td>\n",
       "    </tr>\n",
       "    <tr>\n",
       "      <th>3</th>\n",
       "      <td>9550</td>\n",
       "      <td>7</td>\n",
       "      <td>5</td>\n",
       "      <td>756</td>\n",
       "      <td>1</td>\n",
       "      <td>0</td>\n",
       "      <td>3</td>\n",
       "      <td>7</td>\n",
       "      <td>1</td>\n",
       "      <td>642</td>\n",
       "      <td>0</td>\n",
       "    </tr>\n",
       "    <tr>\n",
       "      <th>4</th>\n",
       "      <td>14260</td>\n",
       "      <td>8</td>\n",
       "      <td>5</td>\n",
       "      <td>1145</td>\n",
       "      <td>2</td>\n",
       "      <td>1</td>\n",
       "      <td>4</td>\n",
       "      <td>9</td>\n",
       "      <td>1</td>\n",
       "      <td>836</td>\n",
       "      <td>1</td>\n",
       "    </tr>\n",
       "  </tbody>\n",
       "</table>\n",
       "</div>\n",
       "    <div class=\"colab-df-buttons\">\n",
       "\n",
       "  <div class=\"colab-df-container\">\n",
       "    <button class=\"colab-df-convert\" onclick=\"convertToInteractive('df-fa323b35-c93f-4b7b-a297-bd013e48e6db')\"\n",
       "            title=\"Convert this dataframe to an interactive table.\"\n",
       "            style=\"display:none;\">\n",
       "\n",
       "  <svg xmlns=\"http://www.w3.org/2000/svg\" height=\"24px\" viewBox=\"0 -960 960 960\">\n",
       "    <path d=\"M120-120v-720h720v720H120Zm60-500h600v-160H180v160Zm220 220h160v-160H400v160Zm0 220h160v-160H400v160ZM180-400h160v-160H180v160Zm440 0h160v-160H620v160ZM180-180h160v-160H180v160Zm440 0h160v-160H620v160Z\"/>\n",
       "  </svg>\n",
       "    </button>\n",
       "\n",
       "  <style>\n",
       "    .colab-df-container {\n",
       "      display:flex;\n",
       "      gap: 12px;\n",
       "    }\n",
       "\n",
       "    .colab-df-convert {\n",
       "      background-color: #E8F0FE;\n",
       "      border: none;\n",
       "      border-radius: 50%;\n",
       "      cursor: pointer;\n",
       "      display: none;\n",
       "      fill: #1967D2;\n",
       "      height: 32px;\n",
       "      padding: 0 0 0 0;\n",
       "      width: 32px;\n",
       "    }\n",
       "\n",
       "    .colab-df-convert:hover {\n",
       "      background-color: #E2EBFA;\n",
       "      box-shadow: 0px 1px 2px rgba(60, 64, 67, 0.3), 0px 1px 3px 1px rgba(60, 64, 67, 0.15);\n",
       "      fill: #174EA6;\n",
       "    }\n",
       "\n",
       "    .colab-df-buttons div {\n",
       "      margin-bottom: 4px;\n",
       "    }\n",
       "\n",
       "    [theme=dark] .colab-df-convert {\n",
       "      background-color: #3B4455;\n",
       "      fill: #D2E3FC;\n",
       "    }\n",
       "\n",
       "    [theme=dark] .colab-df-convert:hover {\n",
       "      background-color: #434B5C;\n",
       "      box-shadow: 0px 1px 3px 1px rgba(0, 0, 0, 0.15);\n",
       "      filter: drop-shadow(0px 1px 2px rgba(0, 0, 0, 0.3));\n",
       "      fill: #FFFFFF;\n",
       "    }\n",
       "  </style>\n",
       "\n",
       "    <script>\n",
       "      const buttonEl =\n",
       "        document.querySelector('#df-fa323b35-c93f-4b7b-a297-bd013e48e6db button.colab-df-convert');\n",
       "      buttonEl.style.display =\n",
       "        google.colab.kernel.accessAllowed ? 'block' : 'none';\n",
       "\n",
       "      async function convertToInteractive(key) {\n",
       "        const element = document.querySelector('#df-fa323b35-c93f-4b7b-a297-bd013e48e6db');\n",
       "        const dataTable =\n",
       "          await google.colab.kernel.invokeFunction('convertToInteractive',\n",
       "                                                    [key], {});\n",
       "        if (!dataTable) return;\n",
       "\n",
       "        const docLinkHtml = 'Like what you see? Visit the ' +\n",
       "          '<a target=\"_blank\" href=https://colab.research.google.com/notebooks/data_table.ipynb>data table notebook</a>'\n",
       "          + ' to learn more about interactive tables.';\n",
       "        element.innerHTML = '';\n",
       "        dataTable['output_type'] = 'display_data';\n",
       "        await google.colab.output.renderOutput(dataTable, element);\n",
       "        const docLink = document.createElement('div');\n",
       "        docLink.innerHTML = docLinkHtml;\n",
       "        element.appendChild(docLink);\n",
       "      }\n",
       "    </script>\n",
       "  </div>\n",
       "\n",
       "\n",
       "<div id=\"df-35b5ff16-d41b-49a3-acb0-8bc2194939c0\">\n",
       "  <button class=\"colab-df-quickchart\" onclick=\"quickchart('df-35b5ff16-d41b-49a3-acb0-8bc2194939c0')\"\n",
       "            title=\"Suggest charts\"\n",
       "            style=\"display:none;\">\n",
       "\n",
       "<svg xmlns=\"http://www.w3.org/2000/svg\" height=\"24px\"viewBox=\"0 0 24 24\"\n",
       "     width=\"24px\">\n",
       "    <g>\n",
       "        <path d=\"M19 3H5c-1.1 0-2 .9-2 2v14c0 1.1.9 2 2 2h14c1.1 0 2-.9 2-2V5c0-1.1-.9-2-2-2zM9 17H7v-7h2v7zm4 0h-2V7h2v10zm4 0h-2v-4h2v4z\"/>\n",
       "    </g>\n",
       "</svg>\n",
       "  </button>\n",
       "\n",
       "<style>\n",
       "  .colab-df-quickchart {\n",
       "      --bg-color: #E8F0FE;\n",
       "      --fill-color: #1967D2;\n",
       "      --hover-bg-color: #E2EBFA;\n",
       "      --hover-fill-color: #174EA6;\n",
       "      --disabled-fill-color: #AAA;\n",
       "      --disabled-bg-color: #DDD;\n",
       "  }\n",
       "\n",
       "  [theme=dark] .colab-df-quickchart {\n",
       "      --bg-color: #3B4455;\n",
       "      --fill-color: #D2E3FC;\n",
       "      --hover-bg-color: #434B5C;\n",
       "      --hover-fill-color: #FFFFFF;\n",
       "      --disabled-bg-color: #3B4455;\n",
       "      --disabled-fill-color: #666;\n",
       "  }\n",
       "\n",
       "  .colab-df-quickchart {\n",
       "    background-color: var(--bg-color);\n",
       "    border: none;\n",
       "    border-radius: 50%;\n",
       "    cursor: pointer;\n",
       "    display: none;\n",
       "    fill: var(--fill-color);\n",
       "    height: 32px;\n",
       "    padding: 0;\n",
       "    width: 32px;\n",
       "  }\n",
       "\n",
       "  .colab-df-quickchart:hover {\n",
       "    background-color: var(--hover-bg-color);\n",
       "    box-shadow: 0 1px 2px rgba(60, 64, 67, 0.3), 0 1px 3px 1px rgba(60, 64, 67, 0.15);\n",
       "    fill: var(--button-hover-fill-color);\n",
       "  }\n",
       "\n",
       "  .colab-df-quickchart-complete:disabled,\n",
       "  .colab-df-quickchart-complete:disabled:hover {\n",
       "    background-color: var(--disabled-bg-color);\n",
       "    fill: var(--disabled-fill-color);\n",
       "    box-shadow: none;\n",
       "  }\n",
       "\n",
       "  .colab-df-spinner {\n",
       "    border: 2px solid var(--fill-color);\n",
       "    border-color: transparent;\n",
       "    border-bottom-color: var(--fill-color);\n",
       "    animation:\n",
       "      spin 1s steps(1) infinite;\n",
       "  }\n",
       "\n",
       "  @keyframes spin {\n",
       "    0% {\n",
       "      border-color: transparent;\n",
       "      border-bottom-color: var(--fill-color);\n",
       "      border-left-color: var(--fill-color);\n",
       "    }\n",
       "    20% {\n",
       "      border-color: transparent;\n",
       "      border-left-color: var(--fill-color);\n",
       "      border-top-color: var(--fill-color);\n",
       "    }\n",
       "    30% {\n",
       "      border-color: transparent;\n",
       "      border-left-color: var(--fill-color);\n",
       "      border-top-color: var(--fill-color);\n",
       "      border-right-color: var(--fill-color);\n",
       "    }\n",
       "    40% {\n",
       "      border-color: transparent;\n",
       "      border-right-color: var(--fill-color);\n",
       "      border-top-color: var(--fill-color);\n",
       "    }\n",
       "    60% {\n",
       "      border-color: transparent;\n",
       "      border-right-color: var(--fill-color);\n",
       "    }\n",
       "    80% {\n",
       "      border-color: transparent;\n",
       "      border-right-color: var(--fill-color);\n",
       "      border-bottom-color: var(--fill-color);\n",
       "    }\n",
       "    90% {\n",
       "      border-color: transparent;\n",
       "      border-bottom-color: var(--fill-color);\n",
       "    }\n",
       "  }\n",
       "</style>\n",
       "\n",
       "  <script>\n",
       "    async function quickchart(key) {\n",
       "      const quickchartButtonEl =\n",
       "        document.querySelector('#' + key + ' button');\n",
       "      quickchartButtonEl.disabled = true;  // To prevent multiple clicks.\n",
       "      quickchartButtonEl.classList.add('colab-df-spinner');\n",
       "      try {\n",
       "        const charts = await google.colab.kernel.invokeFunction(\n",
       "            'suggestCharts', [key], {});\n",
       "      } catch (error) {\n",
       "        console.error('Error during call to suggestCharts:', error);\n",
       "      }\n",
       "      quickchartButtonEl.classList.remove('colab-df-spinner');\n",
       "      quickchartButtonEl.classList.add('colab-df-quickchart-complete');\n",
       "    }\n",
       "    (() => {\n",
       "      let quickchartButtonEl =\n",
       "        document.querySelector('#df-35b5ff16-d41b-49a3-acb0-8bc2194939c0 button');\n",
       "      quickchartButtonEl.style.display =\n",
       "        google.colab.kernel.accessAllowed ? 'block' : 'none';\n",
       "    })();\n",
       "  </script>\n",
       "</div>\n",
       "    </div>\n",
       "  </div>\n"
      ],
      "text/plain": [
       "   LotArea  OverallQual  OverallCond  TotalBsmtSF  FullBath  HalfBath  \\\n",
       "0     8450            7            5          856         2         1   \n",
       "1     9600            6            8         1262         2         0   \n",
       "2    11250            7            5          920         2         1   \n",
       "3     9550            7            5          756         1         0   \n",
       "4    14260            8            5         1145         2         1   \n",
       "\n",
       "   BedroomAbvGr  TotRmsAbvGrd  Fireplaces  GarageArea  AboveMedianPrice  \n",
       "0             3             8           0         548                 1  \n",
       "1             3             6           1         460                 1  \n",
       "2             3             6           1         608                 1  \n",
       "3             3             7           1         642                 0  \n",
       "4             4             9           1         836                 1  "
      ]
     },
     "execution_count": 35,
     "metadata": {},
     "output_type": "execute_result"
    }
   ],
   "source": [
    "df.head()"
   ]
  },
  {
   "cell_type": "code",
   "execution_count": 20,
   "metadata": {
    "colab": {
     "base_uri": "https://localhost:8080/"
    },
    "id": "tsjr1uLOovan",
    "outputId": "fba1e5c2-d72f-4944-a88e-90addca241e8"
   },
   "outputs": [
    {
     "name": "stdout",
     "output_type": "stream",
     "text": [
      "<class 'pandas.core.frame.DataFrame'>\n",
      "RangeIndex: 1460 entries, 0 to 1459\n",
      "Data columns (total 11 columns):\n",
      " #   Column            Non-Null Count  Dtype\n",
      "---  ------            --------------  -----\n",
      " 0   LotArea           1460 non-null   int64\n",
      " 1   OverallQual       1460 non-null   int64\n",
      " 2   OverallCond       1460 non-null   int64\n",
      " 3   TotalBsmtSF       1460 non-null   int64\n",
      " 4   FullBath          1460 non-null   int64\n",
      " 5   HalfBath          1460 non-null   int64\n",
      " 6   BedroomAbvGr      1460 non-null   int64\n",
      " 7   TotRmsAbvGrd      1460 non-null   int64\n",
      " 8   Fireplaces        1460 non-null   int64\n",
      " 9   GarageArea        1460 non-null   int64\n",
      " 10  AboveMedianPrice  1460 non-null   int64\n",
      "dtypes: int64(11)\n",
      "memory usage: 125.6 KB\n"
     ]
    }
   ],
   "source": [
    "df.info()"
   ]
  },
  {
   "cell_type": "code",
   "execution_count": 21,
   "metadata": {
    "colab": {
     "base_uri": "https://localhost:8080/"
    },
    "id": "ETB94yWop0jg",
    "outputId": "7d5cbaf3-032f-4ba6-a518-e414e0e1c412"
   },
   "outputs": [
    {
     "data": {
      "text/plain": [
       "(1460, 11)"
      ]
     },
     "execution_count": 21,
     "metadata": {},
     "output_type": "execute_result"
    }
   ],
   "source": [
    "df.shape"
   ]
  },
  {
   "cell_type": "code",
   "execution_count": 22,
   "metadata": {
    "colab": {
     "base_uri": "https://localhost:8080/",
     "height": 320
    },
    "id": "kVnH023Cp7yF",
    "outputId": "5d167d54-1801-45ee-8713-666f6b38043f"
   },
   "outputs": [
    {
     "data": {
      "text/html": [
       "\n",
       "  <div id=\"df-4112c39a-7bc2-41e6-bcbf-f3c1f2346d8e\" class=\"colab-df-container\">\n",
       "    <div>\n",
       "<style scoped>\n",
       "    .dataframe tbody tr th:only-of-type {\n",
       "        vertical-align: middle;\n",
       "    }\n",
       "\n",
       "    .dataframe tbody tr th {\n",
       "        vertical-align: top;\n",
       "    }\n",
       "\n",
       "    .dataframe thead th {\n",
       "        text-align: right;\n",
       "    }\n",
       "</style>\n",
       "<table border=\"1\" class=\"dataframe\">\n",
       "  <thead>\n",
       "    <tr style=\"text-align: right;\">\n",
       "      <th></th>\n",
       "      <th>LotArea</th>\n",
       "      <th>OverallQual</th>\n",
       "      <th>OverallCond</th>\n",
       "      <th>TotalBsmtSF</th>\n",
       "      <th>FullBath</th>\n",
       "      <th>HalfBath</th>\n",
       "      <th>BedroomAbvGr</th>\n",
       "      <th>TotRmsAbvGrd</th>\n",
       "      <th>Fireplaces</th>\n",
       "      <th>GarageArea</th>\n",
       "      <th>AboveMedianPrice</th>\n",
       "    </tr>\n",
       "  </thead>\n",
       "  <tbody>\n",
       "    <tr>\n",
       "      <th>count</th>\n",
       "      <td>1460.000000</td>\n",
       "      <td>1460.000000</td>\n",
       "      <td>1460.000000</td>\n",
       "      <td>1460.000000</td>\n",
       "      <td>1460.000000</td>\n",
       "      <td>1460.000000</td>\n",
       "      <td>1460.000000</td>\n",
       "      <td>1460.000000</td>\n",
       "      <td>1460.000000</td>\n",
       "      <td>1460.000000</td>\n",
       "      <td>1460.000000</td>\n",
       "    </tr>\n",
       "    <tr>\n",
       "      <th>mean</th>\n",
       "      <td>10516.828082</td>\n",
       "      <td>6.099315</td>\n",
       "      <td>5.575342</td>\n",
       "      <td>1057.429452</td>\n",
       "      <td>1.565068</td>\n",
       "      <td>0.382877</td>\n",
       "      <td>2.866438</td>\n",
       "      <td>6.517808</td>\n",
       "      <td>0.613014</td>\n",
       "      <td>472.980137</td>\n",
       "      <td>0.498630</td>\n",
       "    </tr>\n",
       "    <tr>\n",
       "      <th>std</th>\n",
       "      <td>9981.264932</td>\n",
       "      <td>1.382997</td>\n",
       "      <td>1.112799</td>\n",
       "      <td>438.705324</td>\n",
       "      <td>0.550916</td>\n",
       "      <td>0.502885</td>\n",
       "      <td>0.815778</td>\n",
       "      <td>1.625393</td>\n",
       "      <td>0.644666</td>\n",
       "      <td>213.804841</td>\n",
       "      <td>0.500169</td>\n",
       "    </tr>\n",
       "    <tr>\n",
       "      <th>min</th>\n",
       "      <td>1300.000000</td>\n",
       "      <td>1.000000</td>\n",
       "      <td>1.000000</td>\n",
       "      <td>0.000000</td>\n",
       "      <td>0.000000</td>\n",
       "      <td>0.000000</td>\n",
       "      <td>0.000000</td>\n",
       "      <td>2.000000</td>\n",
       "      <td>0.000000</td>\n",
       "      <td>0.000000</td>\n",
       "      <td>0.000000</td>\n",
       "    </tr>\n",
       "    <tr>\n",
       "      <th>25%</th>\n",
       "      <td>7553.500000</td>\n",
       "      <td>5.000000</td>\n",
       "      <td>5.000000</td>\n",
       "      <td>795.750000</td>\n",
       "      <td>1.000000</td>\n",
       "      <td>0.000000</td>\n",
       "      <td>2.000000</td>\n",
       "      <td>5.000000</td>\n",
       "      <td>0.000000</td>\n",
       "      <td>334.500000</td>\n",
       "      <td>0.000000</td>\n",
       "    </tr>\n",
       "    <tr>\n",
       "      <th>50%</th>\n",
       "      <td>9478.500000</td>\n",
       "      <td>6.000000</td>\n",
       "      <td>5.000000</td>\n",
       "      <td>991.500000</td>\n",
       "      <td>2.000000</td>\n",
       "      <td>0.000000</td>\n",
       "      <td>3.000000</td>\n",
       "      <td>6.000000</td>\n",
       "      <td>1.000000</td>\n",
       "      <td>480.000000</td>\n",
       "      <td>0.000000</td>\n",
       "    </tr>\n",
       "    <tr>\n",
       "      <th>75%</th>\n",
       "      <td>11601.500000</td>\n",
       "      <td>7.000000</td>\n",
       "      <td>6.000000</td>\n",
       "      <td>1298.250000</td>\n",
       "      <td>2.000000</td>\n",
       "      <td>1.000000</td>\n",
       "      <td>3.000000</td>\n",
       "      <td>7.000000</td>\n",
       "      <td>1.000000</td>\n",
       "      <td>576.000000</td>\n",
       "      <td>1.000000</td>\n",
       "    </tr>\n",
       "    <tr>\n",
       "      <th>max</th>\n",
       "      <td>215245.000000</td>\n",
       "      <td>10.000000</td>\n",
       "      <td>9.000000</td>\n",
       "      <td>6110.000000</td>\n",
       "      <td>3.000000</td>\n",
       "      <td>2.000000</td>\n",
       "      <td>8.000000</td>\n",
       "      <td>14.000000</td>\n",
       "      <td>3.000000</td>\n",
       "      <td>1418.000000</td>\n",
       "      <td>1.000000</td>\n",
       "    </tr>\n",
       "  </tbody>\n",
       "</table>\n",
       "</div>\n",
       "    <div class=\"colab-df-buttons\">\n",
       "\n",
       "  <div class=\"colab-df-container\">\n",
       "    <button class=\"colab-df-convert\" onclick=\"convertToInteractive('df-4112c39a-7bc2-41e6-bcbf-f3c1f2346d8e')\"\n",
       "            title=\"Convert this dataframe to an interactive table.\"\n",
       "            style=\"display:none;\">\n",
       "\n",
       "  <svg xmlns=\"http://www.w3.org/2000/svg\" height=\"24px\" viewBox=\"0 -960 960 960\">\n",
       "    <path d=\"M120-120v-720h720v720H120Zm60-500h600v-160H180v160Zm220 220h160v-160H400v160Zm0 220h160v-160H400v160ZM180-400h160v-160H180v160Zm440 0h160v-160H620v160ZM180-180h160v-160H180v160Zm440 0h160v-160H620v160Z\"/>\n",
       "  </svg>\n",
       "    </button>\n",
       "\n",
       "  <style>\n",
       "    .colab-df-container {\n",
       "      display:flex;\n",
       "      gap: 12px;\n",
       "    }\n",
       "\n",
       "    .colab-df-convert {\n",
       "      background-color: #E8F0FE;\n",
       "      border: none;\n",
       "      border-radius: 50%;\n",
       "      cursor: pointer;\n",
       "      display: none;\n",
       "      fill: #1967D2;\n",
       "      height: 32px;\n",
       "      padding: 0 0 0 0;\n",
       "      width: 32px;\n",
       "    }\n",
       "\n",
       "    .colab-df-convert:hover {\n",
       "      background-color: #E2EBFA;\n",
       "      box-shadow: 0px 1px 2px rgba(60, 64, 67, 0.3), 0px 1px 3px 1px rgba(60, 64, 67, 0.15);\n",
       "      fill: #174EA6;\n",
       "    }\n",
       "\n",
       "    .colab-df-buttons div {\n",
       "      margin-bottom: 4px;\n",
       "    }\n",
       "\n",
       "    [theme=dark] .colab-df-convert {\n",
       "      background-color: #3B4455;\n",
       "      fill: #D2E3FC;\n",
       "    }\n",
       "\n",
       "    [theme=dark] .colab-df-convert:hover {\n",
       "      background-color: #434B5C;\n",
       "      box-shadow: 0px 1px 3px 1px rgba(0, 0, 0, 0.15);\n",
       "      filter: drop-shadow(0px 1px 2px rgba(0, 0, 0, 0.3));\n",
       "      fill: #FFFFFF;\n",
       "    }\n",
       "  </style>\n",
       "\n",
       "    <script>\n",
       "      const buttonEl =\n",
       "        document.querySelector('#df-4112c39a-7bc2-41e6-bcbf-f3c1f2346d8e button.colab-df-convert');\n",
       "      buttonEl.style.display =\n",
       "        google.colab.kernel.accessAllowed ? 'block' : 'none';\n",
       "\n",
       "      async function convertToInteractive(key) {\n",
       "        const element = document.querySelector('#df-4112c39a-7bc2-41e6-bcbf-f3c1f2346d8e');\n",
       "        const dataTable =\n",
       "          await google.colab.kernel.invokeFunction('convertToInteractive',\n",
       "                                                    [key], {});\n",
       "        if (!dataTable) return;\n",
       "\n",
       "        const docLinkHtml = 'Like what you see? Visit the ' +\n",
       "          '<a target=\"_blank\" href=https://colab.research.google.com/notebooks/data_table.ipynb>data table notebook</a>'\n",
       "          + ' to learn more about interactive tables.';\n",
       "        element.innerHTML = '';\n",
       "        dataTable['output_type'] = 'display_data';\n",
       "        await google.colab.output.renderOutput(dataTable, element);\n",
       "        const docLink = document.createElement('div');\n",
       "        docLink.innerHTML = docLinkHtml;\n",
       "        element.appendChild(docLink);\n",
       "      }\n",
       "    </script>\n",
       "  </div>\n",
       "\n",
       "\n",
       "<div id=\"df-fb71bbd2-4159-43cb-8bf5-0f026b2cdb7e\">\n",
       "  <button class=\"colab-df-quickchart\" onclick=\"quickchart('df-fb71bbd2-4159-43cb-8bf5-0f026b2cdb7e')\"\n",
       "            title=\"Suggest charts\"\n",
       "            style=\"display:none;\">\n",
       "\n",
       "<svg xmlns=\"http://www.w3.org/2000/svg\" height=\"24px\"viewBox=\"0 0 24 24\"\n",
       "     width=\"24px\">\n",
       "    <g>\n",
       "        <path d=\"M19 3H5c-1.1 0-2 .9-2 2v14c0 1.1.9 2 2 2h14c1.1 0 2-.9 2-2V5c0-1.1-.9-2-2-2zM9 17H7v-7h2v7zm4 0h-2V7h2v10zm4 0h-2v-4h2v4z\"/>\n",
       "    </g>\n",
       "</svg>\n",
       "  </button>\n",
       "\n",
       "<style>\n",
       "  .colab-df-quickchart {\n",
       "      --bg-color: #E8F0FE;\n",
       "      --fill-color: #1967D2;\n",
       "      --hover-bg-color: #E2EBFA;\n",
       "      --hover-fill-color: #174EA6;\n",
       "      --disabled-fill-color: #AAA;\n",
       "      --disabled-bg-color: #DDD;\n",
       "  }\n",
       "\n",
       "  [theme=dark] .colab-df-quickchart {\n",
       "      --bg-color: #3B4455;\n",
       "      --fill-color: #D2E3FC;\n",
       "      --hover-bg-color: #434B5C;\n",
       "      --hover-fill-color: #FFFFFF;\n",
       "      --disabled-bg-color: #3B4455;\n",
       "      --disabled-fill-color: #666;\n",
       "  }\n",
       "\n",
       "  .colab-df-quickchart {\n",
       "    background-color: var(--bg-color);\n",
       "    border: none;\n",
       "    border-radius: 50%;\n",
       "    cursor: pointer;\n",
       "    display: none;\n",
       "    fill: var(--fill-color);\n",
       "    height: 32px;\n",
       "    padding: 0;\n",
       "    width: 32px;\n",
       "  }\n",
       "\n",
       "  .colab-df-quickchart:hover {\n",
       "    background-color: var(--hover-bg-color);\n",
       "    box-shadow: 0 1px 2px rgba(60, 64, 67, 0.3), 0 1px 3px 1px rgba(60, 64, 67, 0.15);\n",
       "    fill: var(--button-hover-fill-color);\n",
       "  }\n",
       "\n",
       "  .colab-df-quickchart-complete:disabled,\n",
       "  .colab-df-quickchart-complete:disabled:hover {\n",
       "    background-color: var(--disabled-bg-color);\n",
       "    fill: var(--disabled-fill-color);\n",
       "    box-shadow: none;\n",
       "  }\n",
       "\n",
       "  .colab-df-spinner {\n",
       "    border: 2px solid var(--fill-color);\n",
       "    border-color: transparent;\n",
       "    border-bottom-color: var(--fill-color);\n",
       "    animation:\n",
       "      spin 1s steps(1) infinite;\n",
       "  }\n",
       "\n",
       "  @keyframes spin {\n",
       "    0% {\n",
       "      border-color: transparent;\n",
       "      border-bottom-color: var(--fill-color);\n",
       "      border-left-color: var(--fill-color);\n",
       "    }\n",
       "    20% {\n",
       "      border-color: transparent;\n",
       "      border-left-color: var(--fill-color);\n",
       "      border-top-color: var(--fill-color);\n",
       "    }\n",
       "    30% {\n",
       "      border-color: transparent;\n",
       "      border-left-color: var(--fill-color);\n",
       "      border-top-color: var(--fill-color);\n",
       "      border-right-color: var(--fill-color);\n",
       "    }\n",
       "    40% {\n",
       "      border-color: transparent;\n",
       "      border-right-color: var(--fill-color);\n",
       "      border-top-color: var(--fill-color);\n",
       "    }\n",
       "    60% {\n",
       "      border-color: transparent;\n",
       "      border-right-color: var(--fill-color);\n",
       "    }\n",
       "    80% {\n",
       "      border-color: transparent;\n",
       "      border-right-color: var(--fill-color);\n",
       "      border-bottom-color: var(--fill-color);\n",
       "    }\n",
       "    90% {\n",
       "      border-color: transparent;\n",
       "      border-bottom-color: var(--fill-color);\n",
       "    }\n",
       "  }\n",
       "</style>\n",
       "\n",
       "  <script>\n",
       "    async function quickchart(key) {\n",
       "      const quickchartButtonEl =\n",
       "        document.querySelector('#' + key + ' button');\n",
       "      quickchartButtonEl.disabled = true;  // To prevent multiple clicks.\n",
       "      quickchartButtonEl.classList.add('colab-df-spinner');\n",
       "      try {\n",
       "        const charts = await google.colab.kernel.invokeFunction(\n",
       "            'suggestCharts', [key], {});\n",
       "      } catch (error) {\n",
       "        console.error('Error during call to suggestCharts:', error);\n",
       "      }\n",
       "      quickchartButtonEl.classList.remove('colab-df-spinner');\n",
       "      quickchartButtonEl.classList.add('colab-df-quickchart-complete');\n",
       "    }\n",
       "    (() => {\n",
       "      let quickchartButtonEl =\n",
       "        document.querySelector('#df-fb71bbd2-4159-43cb-8bf5-0f026b2cdb7e button');\n",
       "      quickchartButtonEl.style.display =\n",
       "        google.colab.kernel.accessAllowed ? 'block' : 'none';\n",
       "    })();\n",
       "  </script>\n",
       "</div>\n",
       "    </div>\n",
       "  </div>\n"
      ],
      "text/plain": [
       "             LotArea  OverallQual  OverallCond  ...   Fireplaces   GarageArea  AboveMedianPrice\n",
       "count    1460.000000  1460.000000  1460.000000  ...  1460.000000  1460.000000       1460.000000\n",
       "mean    10516.828082     6.099315     5.575342  ...     0.613014   472.980137          0.498630\n",
       "std      9981.264932     1.382997     1.112799  ...     0.644666   213.804841          0.500169\n",
       "min      1300.000000     1.000000     1.000000  ...     0.000000     0.000000          0.000000\n",
       "25%      7553.500000     5.000000     5.000000  ...     0.000000   334.500000          0.000000\n",
       "50%      9478.500000     6.000000     5.000000  ...     1.000000   480.000000          0.000000\n",
       "75%     11601.500000     7.000000     6.000000  ...     1.000000   576.000000          1.000000\n",
       "max    215245.000000    10.000000     9.000000  ...     3.000000  1418.000000          1.000000\n",
       "\n",
       "[8 rows x 11 columns]"
      ]
     },
     "execution_count": 22,
     "metadata": {},
     "output_type": "execute_result"
    }
   ],
   "source": [
    "df.describe()"
   ]
  },
  {
   "cell_type": "markdown",
   "metadata": {
    "id": "VUSAN0pAj3kD"
   },
   "source": [
    "Dataset Link: https://drive.google.com/file/d/1GfvKA0qznNVknghV4botnNxyH-KvODOC/view?usp=sharing"
   ]
  },
  {
   "cell_type": "markdown",
   "metadata": {
    "id": "nh53a3Ikj3kE"
   },
   "source": [
    "# Data Cleaning"
   ]
  },
  {
   "cell_type": "markdown",
   "metadata": {
    "id": "aL9RABNfj3kF"
   },
   "source": [
    "A. split our dataset into input features (X) and the label of what we want to predict (Y)."
   ]
  },
  {
   "cell_type": "code",
   "execution_count": 36,
   "metadata": {
    "id": "fKZVZqzrqDzQ"
   },
   "outputs": [],
   "source": [
    "X=df.drop('AboveMedianPrice',axis=1)\n",
    "y=df['AboveMedianPrice']"
   ]
  },
  {
   "cell_type": "markdown",
   "metadata": {
    "id": "gZG8KRgbj3kG"
   },
   "source": [
    "B. Data Normalization"
   ]
  },
  {
   "cell_type": "code",
   "execution_count": 55,
   "metadata": {
    "id": "wK10ZCIh264u"
   },
   "outputs": [],
   "source": [
    "X=(X-X.min())/(X.max()-X.min())\n",
    "y=(y-y.min())/(y.max()-y.min())\n"
   ]
  },
  {
   "cell_type": "markdown",
   "metadata": {
    "id": "RFHPkSFEj3kG"
   },
   "source": [
    "C. Split Data into train, Validation, Test"
   ]
  },
  {
   "cell_type": "markdown",
   "metadata": {
    "id": "5hkmPH0nj3kH"
   },
   "source": [
    "- X_train (10 input features, 70% of full dataset)\n",
    "- X_val (10 input features, 15% of full dataset)\n",
    "- X_test (10 input features, 15% of full dataset)\n",
    "- Y_train (1 label, 70% of full dataset)\n",
    "- Y_val (1 label, 15% of full dataset)\n",
    "- Y_test (1 label, 15% of full dataset)"
   ]
  },
  {
   "cell_type": "code",
   "execution_count": 52,
   "metadata": {
    "colab": {
     "base_uri": "https://localhost:8080/"
    },
    "id": "NPNezhirsXXw",
    "outputId": "df6c3482-1413-42d7-e3d5-229813a8bf93"
   },
   "outputs": [
    {
     "data": {
      "text/plain": [
       "(1460, 10)"
      ]
     },
     "execution_count": 52,
     "metadata": {},
     "output_type": "execute_result"
    }
   ],
   "source": [
    "X.shape"
   ]
  },
  {
   "cell_type": "code",
   "execution_count": 56,
   "metadata": {
    "id": "xsdMf3yQqp-5"
   },
   "outputs": [],
   "source": [
    "X_train, x_temp, y_train, y_temp  = train_test_split(X, y, test_size=0.3, random_state=1)\n",
    "\n",
    "X_val, X_test,y_val,y_test= train_test_split(x_temp, y_temp, test_size=0.5, random_state=1)"
   ]
  },
  {
   "cell_type": "markdown",
   "metadata": {
    "id": "5k87OoAsj3kI"
   },
   "source": [
    "# Neural Network:"
   ]
  },
  {
   "cell_type": "markdown",
   "metadata": {
    "id": "NiEl0rcJj3kK"
   },
   "source": [
    "### First Step: Setting up the Architecture"
   ]
  },
  {
   "cell_type": "markdown",
   "metadata": {
    "id": "n1jUfK_0j3kK"
   },
   "source": [
    "![image.png](attachment:9bdb2b07-797f-4c1d-9a27-338cf5e4238e.png)"
   ]
  },
  {
   "cell_type": "markdown",
   "metadata": {
    "id": "cEt08Vo0j3kL"
   },
   "source": [
    "In words, we want to have these layers:\n",
    "\n",
    "- Hidden layer 1: 32 neurons, ReLU activation\n",
    "- Hidden layer 2: 32 neurons, ReLU activation\n",
    "- Output Layer: 1 neuron, Sigmoid activation"
   ]
  },
  {
   "cell_type": "code",
   "execution_count": 39,
   "metadata": {
    "colab": {
     "base_uri": "https://localhost:8080/"
    },
    "id": "KrZDn4hwvgQd",
    "outputId": "8d0cb772-7f7b-4add-fb2b-f64c6ba72206"
   },
   "outputs": [
    {
     "data": {
      "text/plain": [
       "(1022, 10)"
      ]
     },
     "execution_count": 39,
     "metadata": {},
     "output_type": "execute_result"
    }
   ],
   "source": [
    "X_train.shape"
   ]
  },
  {
   "cell_type": "code",
   "execution_count": 57,
   "metadata": {
    "colab": {
     "base_uri": "https://localhost:8080/"
    },
    "id": "fQITWtdCs5I8",
    "outputId": "7b5cc738-c6b8-468f-90dd-731453ca390e"
   },
   "outputs": [
    {
     "name": "stdout",
     "output_type": "stream",
     "text": [
      "Model: \"sequential_8\"\n",
      "_________________________________________________________________\n",
      " Layer (type)                Output Shape              Param #   \n",
      "=================================================================\n",
      " layer1 (Dense)              (None, 32)                352       \n",
      "                                                                 \n",
      " layer2 (Dense)              (None, 32)                1056      \n",
      "                                                                 \n",
      " layer3 (Dense)              (None, 1)                 33        \n",
      "                                                                 \n",
      "=================================================================\n",
      "Total params: 1441 (5.63 KB)\n",
      "Trainable params: 1441 (5.63 KB)\n",
      "Non-trainable params: 0 (0.00 Byte)\n",
      "_________________________________________________________________\n"
     ]
    }
   ],
   "source": [
    "from keras.src.layers.attention.multi_head_attention import activation\n",
    "model=tensorflow.keras.Sequential([\n",
    "        tf.keras.layers.InputLayer(input_shape=10),\n",
    "        tensorflow.keras.layers.Dense(32, activation=\"relu\", name=\"layer1\"),\n",
    "        tensorflow.keras.layers.Dense(32, activation=\"relu\", name=\"layer2\"),\n",
    "        tensorflow.keras.layers.Dense(1, activation='sigmoid',name=\"layer3\"),\n",
    "    ])\n",
    "model.summary()"
   ]
  },
  {
   "cell_type": "markdown",
   "metadata": {
    "id": "7iieIs0Qj3kM"
   },
   "source": [
    "### Second Step: Filling in the best numbers"
   ]
  },
  {
   "cell_type": "code",
   "execution_count": 58,
   "metadata": {
    "id": "a0J94BIos5Fi"
   },
   "outputs": [],
   "source": [
    "model.compile(loss='binary_crossentropy',optimizer='adam',metrics='acc')"
   ]
  },
  {
   "cell_type": "markdown",
   "metadata": {
    "id": "5lXk10dLj3kM"
   },
   "source": [
    "> Now that we’ve got our architecture specified, we need to find the best numbers for it. Before we start our training, we have to configure the model by\n",
    "\n",
    "1. Telling it which algorithm you want to use to do the optimization\n",
    "2. Telling it what loss function to use\n",
    "3. Telling it what other metrics you want to track apart from the loss function"
   ]
  },
  {
   "cell_type": "markdown",
   "metadata": {
    "id": "aSBgChXmj3kN"
   },
   "source": [
    "You can now see that the model is training! By looking at the numbers, you should be able to see the loss decrease and the accuracy increase over time."
   ]
  },
  {
   "cell_type": "markdown",
   "metadata": {
    "id": "ECCyMYeUj3kN"
   },
   "source": [
    "### Third Step: Train the Model"
   ]
  },
  {
   "cell_type": "code",
   "execution_count": 59,
   "metadata": {
    "colab": {
     "base_uri": "https://localhost:8080/"
    },
    "id": "O7ZIsrZus5DG",
    "outputId": "8548d884-7f66-4ffe-95ca-f8d18eddfd3e"
   },
   "outputs": [
    {
     "name": "stdout",
     "output_type": "stream",
     "text": [
      "Epoch 1/15\n",
      "32/32 [==============================] - 1s 10ms/step - loss: 0.6732 - acc: 0.5489 - val_loss: 0.6471 - val_acc: 0.7215\n",
      "Epoch 2/15\n",
      "32/32 [==============================] - 0s 4ms/step - loss: 0.6239 - acc: 0.7485 - val_loss: 0.5828 - val_acc: 0.7900\n",
      "Epoch 3/15\n",
      "32/32 [==============================] - 0s 4ms/step - loss: 0.5562 - acc: 0.7583 - val_loss: 0.5047 - val_acc: 0.8219\n",
      "Epoch 4/15\n",
      "32/32 [==============================] - 0s 4ms/step - loss: 0.4854 - acc: 0.8063 - val_loss: 0.4355 - val_acc: 0.8584\n",
      "Epoch 5/15\n",
      "32/32 [==============================] - 0s 4ms/step - loss: 0.4299 - acc: 0.8258 - val_loss: 0.3849 - val_acc: 0.8676\n",
      "Epoch 6/15\n",
      "32/32 [==============================] - 0s 4ms/step - loss: 0.3906 - acc: 0.8601 - val_loss: 0.3533 - val_acc: 0.8721\n",
      "Epoch 7/15\n",
      "32/32 [==============================] - 0s 4ms/step - loss: 0.3649 - acc: 0.8611 - val_loss: 0.3359 - val_acc: 0.8767\n",
      "Epoch 8/15\n",
      "32/32 [==============================] - 0s 4ms/step - loss: 0.3441 - acc: 0.8650 - val_loss: 0.3242 - val_acc: 0.8813\n",
      "Epoch 9/15\n",
      "32/32 [==============================] - 0s 3ms/step - loss: 0.3309 - acc: 0.8718 - val_loss: 0.3080 - val_acc: 0.8813\n",
      "Epoch 10/15\n",
      "32/32 [==============================] - 0s 4ms/step - loss: 0.3174 - acc: 0.8796 - val_loss: 0.3049 - val_acc: 0.8904\n",
      "Epoch 11/15\n",
      "32/32 [==============================] - 0s 3ms/step - loss: 0.3075 - acc: 0.8845 - val_loss: 0.2966 - val_acc: 0.8904\n",
      "Epoch 12/15\n",
      "32/32 [==============================] - 0s 3ms/step - loss: 0.3027 - acc: 0.8845 - val_loss: 0.2899 - val_acc: 0.8904\n",
      "Epoch 13/15\n",
      "32/32 [==============================] - 0s 4ms/step - loss: 0.2915 - acc: 0.8845 - val_loss: 0.2836 - val_acc: 0.8858\n",
      "Epoch 14/15\n",
      "32/32 [==============================] - 0s 4ms/step - loss: 0.2872 - acc: 0.8826 - val_loss: 0.2760 - val_acc: 0.8813\n",
      "Epoch 15/15\n",
      "32/32 [==============================] - 0s 4ms/step - loss: 0.2787 - acc: 0.8875 - val_loss: 0.2726 - val_acc: 0.8858\n"
     ]
    },
    {
     "data": {
      "text/plain": [
       "<keras.src.callbacks.History at 0x79d0dc7123b0>"
      ]
     },
     "execution_count": 59,
     "metadata": {},
     "output_type": "execute_result"
    }
   ],
   "source": [
    "model.fit(X_train,y_train,epochs=15,batch_size=32,validation_data=[X_val,y_val])"
   ]
  },
  {
   "cell_type": "markdown",
   "metadata": {
    "id": "9P4QKpPdj3kO"
   },
   "source": [
    "### Forth Step: Evaluate Model on Test"
   ]
  },
  {
   "cell_type": "code",
   "execution_count": 29,
   "metadata": {
    "colab": {
     "base_uri": "https://localhost:8080/"
    },
    "id": "NO-qjZM507Rn",
    "outputId": "2ce617c1-4937-44d2-be09-70cdadb3df49"
   },
   "outputs": [
    {
     "name": "stdout",
     "output_type": "stream",
     "text": [
      "7/7 [==============================] - 0s 3ms/step\n"
     ]
    },
    {
     "data": {
      "text/plain": [
       "array([[9.99818444e-01],\n",
       "       [3.92640859e-01],\n",
       "       [8.31206322e-01],\n",
       "       [9.76038355e-05],\n",
       "       [9.91550982e-01],\n",
       "       [9.98011649e-01],\n",
       "       [9.98843491e-01],\n",
       "       [1.02732508e-02],\n",
       "       [9.99301612e-01],\n",
       "       [9.99015450e-01],\n",
       "       [9.86496627e-01],\n",
       "       [9.85649288e-01],\n",
       "       [9.99357283e-01],\n",
       "       [1.00000000e+00],\n",
       "       [2.58798599e-01],\n",
       "       [4.85624731e-01],\n",
       "       [6.21349156e-01],\n",
       "       [9.71559584e-01],\n",
       "       [1.00000000e+00],\n",
       "       [8.26168060e-01],\n",
       "       [8.55033174e-02],\n",
       "       [9.93393600e-01],\n",
       "       [9.99608934e-01],\n",
       "       [9.99504089e-01],\n",
       "       [9.80920136e-01],\n",
       "       [9.58798051e-01],\n",
       "       [3.36506665e-01],\n",
       "       [9.07559037e-01],\n",
       "       [9.99905705e-01],\n",
       "       [8.09270799e-01],\n",
       "       [6.48829997e-01],\n",
       "       [4.42911051e-02],\n",
       "       [2.41049632e-01],\n",
       "       [9.98592794e-01],\n",
       "       [8.94764423e-01],\n",
       "       [9.99736905e-01],\n",
       "       [5.13609648e-01],\n",
       "       [2.29190569e-02],\n",
       "       [9.90741432e-01],\n",
       "       [9.98164117e-01],\n",
       "       [9.96790648e-01],\n",
       "       [8.13337028e-01],\n",
       "       [1.95122913e-01],\n",
       "       [9.80698168e-01],\n",
       "       [9.72257733e-01],\n",
       "       [9.97642398e-01],\n",
       "       [2.53637254e-01],\n",
       "       [1.91183850e-01],\n",
       "       [9.98506308e-01],\n",
       "       [9.99988735e-01],\n",
       "       [9.80459273e-01],\n",
       "       [9.99991059e-01],\n",
       "       [9.50655341e-01],\n",
       "       [9.84798551e-01],\n",
       "       [9.94651139e-01],\n",
       "       [2.62477070e-01],\n",
       "       [7.54031837e-01],\n",
       "       [9.81509626e-01],\n",
       "       [7.39706218e-01],\n",
       "       [9.96026278e-01],\n",
       "       [8.99187207e-01],\n",
       "       [9.99997139e-01],\n",
       "       [9.24943984e-01],\n",
       "       [3.02927494e-01],\n",
       "       [6.61101401e-01],\n",
       "       [1.10632539e-01],\n",
       "       [5.93534052e-01],\n",
       "       [1.00000000e+00],\n",
       "       [9.99993324e-01],\n",
       "       [5.38257301e-01],\n",
       "       [9.52392876e-01],\n",
       "       [9.49655194e-03],\n",
       "       [9.99891996e-01],\n",
       "       [5.97386062e-01],\n",
       "       [9.93765891e-01],\n",
       "       [7.88230777e-01],\n",
       "       [9.94630933e-01],\n",
       "       [9.59110975e-01],\n",
       "       [9.98917580e-01],\n",
       "       [9.91711676e-01],\n",
       "       [9.99568462e-01],\n",
       "       [3.95672023e-02],\n",
       "       [9.61491764e-01],\n",
       "       [9.77726281e-01],\n",
       "       [9.96319115e-01],\n",
       "       [9.93665755e-01],\n",
       "       [9.00415659e-01],\n",
       "       [9.99335051e-01],\n",
       "       [9.95843291e-01],\n",
       "       [9.98039007e-01],\n",
       "       [9.93707418e-01],\n",
       "       [9.84676957e-01],\n",
       "       [5.98482907e-01],\n",
       "       [7.12524712e-01],\n",
       "       [6.85211241e-01],\n",
       "       [6.71837628e-01],\n",
       "       [5.83153486e-01],\n",
       "       [2.24968165e-01],\n",
       "       [3.29818457e-01],\n",
       "       [9.86353219e-01],\n",
       "       [9.99720693e-01],\n",
       "       [8.62214983e-01],\n",
       "       [8.66673946e-01],\n",
       "       [9.11425829e-01],\n",
       "       [2.32981786e-01],\n",
       "       [9.87654150e-01],\n",
       "       [9.60606456e-01],\n",
       "       [9.98232424e-01],\n",
       "       [9.85007703e-01],\n",
       "       [9.99797702e-01],\n",
       "       [9.93352294e-01],\n",
       "       [8.12090337e-02],\n",
       "       [9.75912213e-01],\n",
       "       [8.94601941e-01],\n",
       "       [9.99849737e-01],\n",
       "       [9.75335658e-01],\n",
       "       [9.40401435e-01],\n",
       "       [3.17302525e-01],\n",
       "       [9.99002934e-01],\n",
       "       [9.99760032e-01],\n",
       "       [9.98599052e-01],\n",
       "       [9.98957574e-01],\n",
       "       [9.99967217e-01],\n",
       "       [8.28352869e-01],\n",
       "       [1.81346014e-01],\n",
       "       [9.83650923e-01],\n",
       "       [9.71231401e-01],\n",
       "       [9.93684351e-01],\n",
       "       [6.47559941e-01],\n",
       "       [9.99966860e-01],\n",
       "       [9.99998689e-01],\n",
       "       [9.17160809e-01],\n",
       "       [9.66084838e-01],\n",
       "       [9.55435932e-01],\n",
       "       [6.88638806e-01],\n",
       "       [9.54131007e-01],\n",
       "       [1.00000000e+00],\n",
       "       [4.52655286e-01],\n",
       "       [9.48698282e-01],\n",
       "       [5.36976419e-02],\n",
       "       [2.62777638e-02],\n",
       "       [9.90312278e-01],\n",
       "       [9.68113184e-01],\n",
       "       [1.29010873e-02],\n",
       "       [8.53706241e-01],\n",
       "       [9.91874754e-01],\n",
       "       [4.34152275e-01],\n",
       "       [9.99890089e-01],\n",
       "       [9.99705911e-01],\n",
       "       [8.70548368e-01],\n",
       "       [8.61480951e-01],\n",
       "       [9.66886938e-01],\n",
       "       [9.96013582e-01],\n",
       "       [9.81795132e-01],\n",
       "       [5.41220605e-01],\n",
       "       [9.99113023e-01],\n",
       "       [3.98320735e-01],\n",
       "       [8.03483725e-01],\n",
       "       [8.03130120e-02],\n",
       "       [3.17013383e-01],\n",
       "       [8.48665893e-01],\n",
       "       [1.46553382e-01],\n",
       "       [6.23911619e-01],\n",
       "       [9.91677344e-01],\n",
       "       [8.16004813e-01],\n",
       "       [8.19025457e-01],\n",
       "       [7.14750350e-01],\n",
       "       [9.81826484e-01],\n",
       "       [5.42941213e-01],\n",
       "       [5.13022346e-03],\n",
       "       [9.99930918e-01],\n",
       "       [9.99782383e-01],\n",
       "       [9.99920309e-01],\n",
       "       [9.99956787e-01],\n",
       "       [1.00000000e+00],\n",
       "       [9.63414133e-01],\n",
       "       [9.99508321e-01],\n",
       "       [9.98033941e-01],\n",
       "       [9.99999881e-01],\n",
       "       [9.62741375e-01],\n",
       "       [9.85120416e-01],\n",
       "       [9.87447441e-01],\n",
       "       [1.00000000e+00],\n",
       "       [8.62017274e-01],\n",
       "       [9.99028325e-01],\n",
       "       [9.71833169e-01],\n",
       "       [9.99993682e-01],\n",
       "       [9.98454750e-01],\n",
       "       [8.66781473e-01],\n",
       "       [3.96376848e-01],\n",
       "       [9.50144649e-01],\n",
       "       [6.51679039e-01],\n",
       "       [3.91211063e-02],\n",
       "       [9.51178432e-01],\n",
       "       [9.91798282e-01],\n",
       "       [9.90017474e-01],\n",
       "       [9.51921642e-01],\n",
       "       [9.85466182e-01],\n",
       "       [9.74853933e-01],\n",
       "       [1.14874365e-02],\n",
       "       [9.99110758e-01],\n",
       "       [9.99978602e-01],\n",
       "       [9.99055028e-01],\n",
       "       [7.88760066e-01],\n",
       "       [9.99756217e-01],\n",
       "       [2.63360012e-02],\n",
       "       [7.50660062e-01],\n",
       "       [9.99997497e-01],\n",
       "       [9.83518660e-01],\n",
       "       [1.00000000e+00],\n",
       "       [9.98260438e-01],\n",
       "       [1.17974140e-01],\n",
       "       [2.10408792e-01],\n",
       "       [9.99676645e-01],\n",
       "       [9.98119891e-01],\n",
       "       [9.99936938e-01],\n",
       "       [7.54992783e-01],\n",
       "       [6.71866179e-01],\n",
       "       [1.00000000e+00]], dtype=float32)"
      ]
     },
     "execution_count": 29,
     "metadata": {},
     "output_type": "execute_result"
    }
   ],
   "source": [
    "model.predict(X_test)"
   ]
  },
  {
   "cell_type": "markdown",
   "metadata": {
    "id": "0Fe2wL9Cj3kO"
   },
   "source": []
  },
  {
   "cell_type": "markdown",
   "metadata": {
    "id": "ftgoVD8lj3kO"
   },
   "source": [
    "# <font color='teal'> Summary"
   ]
  },
  {
   "cell_type": "markdown",
   "metadata": {
    "id": "u0o0gGfgj3kO"
   },
   "source": [
    "Coding up our first neural network required only a few lines of code:\n",
    "\n",
    "1. We specify the architecture with the Keras Sequential model.\n",
    "2. We specify some of our settings (optimizer, loss function, metrics to track) with model.compile\n",
    "3. We train our model (find the best parameters for our architecture) with the training data with model.fit\n",
    "4. We evaluate our model on the test set with model.evaluate"
   ]
  }
 ],
 "metadata": {
  "colab": {
   "provenance": []
  },
  "kernelspec": {
   "display_name": "Python 3 (ipykernel)",
   "language": "python",
   "name": "python3"
  },
  "language_info": {
   "codemirror_mode": {
    "name": "ipython",
    "version": 3
   },
   "file_extension": ".py",
   "mimetype": "text/x-python",
   "name": "python",
   "nbconvert_exporter": "python",
   "pygments_lexer": "ipython3",
   "version": "3.9.13"
  }
 },
 "nbformat": 4,
 "nbformat_minor": 1
}
